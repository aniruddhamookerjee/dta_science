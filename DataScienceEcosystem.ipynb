{
 "cells": [
  {
   "cell_type": "markdown",
   "id": "eeb855ee-063f-4676-9a47-24aa06cf102c",
   "metadata": {},
   "source": [
    "# Data Science Tools and Ecosystem\n"
   ]
  },
  {
   "cell_type": "markdown",
   "id": "01fb4423-d976-4cb7-bfe3-e7f0e6c6becb",
   "metadata": {},
   "source": [
    "## In this notebook, Data Science Tools and Ecosystem are summarized."
   ]
  },
  {
   "cell_type": "markdown",
   "id": "5c670f91-2d93-40aa-aaa8-e13e9e09810f",
   "metadata": {},
   "source": [
    "__Objectives:__\n",
    "* List popular languages used in Data Science\n",
    "* List common libraries used in Data Science\n",
    "* "
   ]
  },
  {
   "cell_type": "markdown",
   "id": "47450013-27c0-4145-b054-d8a93cd0c42c",
   "metadata": {},
   "source": [
    "#### Some of the popular languages that Data Scientists use are:\n",
    "1. Python\n",
    "2. R\n",
    "3. JavaScript"
   ]
  },
  {
   "cell_type": "markdown",
   "id": "2028cea8-5fb3-47f5-94ad-8697c1ae1cc5",
   "metadata": {},
   "source": [
    "#### Some of the commonly used libraries used by Data Scientists are:\n",
    "1. Pandas\n",
    "2. Numphy\n",
    "3. TensorFlow"
   ]
  },
  {
   "cell_type": "markdown",
   "id": "11218a72-8e01-46b6-a48b-47e696f89063",
   "metadata": {},
   "source": [
    "| Data Science Tools |\n",
    "| ------------------- |\n",
    "| JupyterLab |\n",
    "| RStudio |\n",
    "| Apache Hadoop |"
   ]
  },
  {
   "cell_type": "markdown",
   "id": "9012e51f-07ac-4e0f-97d8-ce22e000f4ce",
   "metadata": {},
   "source": [
    "### Below are few examples of evaluating arithmetic expressions in Python:"
   ]
  },
  {
   "cell_type": "code",
   "execution_count": 17,
   "id": "70b19023-d384-4775-b3ad-c08ac81cc9ef",
   "metadata": {},
   "outputs": [
    {
     "data": {
      "text/plain": [
       "17"
      ]
     },
     "execution_count": 17,
     "metadata": {},
     "output_type": "execute_result"
    }
   ],
   "source": [
    "#This is a simple arithmetic expression to multiply and then add integers.\n",
    "\n",
    "(3*4)+5"
   ]
  },
  {
   "cell_type": "code",
   "execution_count": 19,
   "id": "59c85d15-25b1-4b05-bd92-3c938ec9c165",
   "metadata": {},
   "outputs": [
    {
     "name": "stdout",
     "output_type": "stream",
     "text": [
      "3.3333333333333335\n"
     ]
    }
   ],
   "source": [
    "#This will convert 200 minutes to hours by dividing it by 60.\n",
    "min=200\n",
    "hrs=200/60\n",
    "print(hrs)"
   ]
  },
  {
   "cell_type": "code",
   "execution_count": null,
   "id": "dbc7b0be-c2ac-48d9-9997-2a8c89c2e9c3",
   "metadata": {},
   "outputs": [],
   "source": []
  }
 ],
 "metadata": {
  "kernelspec": {
   "display_name": "Python 3 (ipykernel)",
   "language": "python",
   "name": "python3"
  },
  "language_info": {
   "codemirror_mode": {
    "name": "ipython",
    "version": 3
   },
   "file_extension": ".py",
   "mimetype": "text/x-python",
   "name": "python",
   "nbconvert_exporter": "python",
   "pygments_lexer": "ipython3",
   "version": "3.11.7"
  }
 },
 "nbformat": 4,
 "nbformat_minor": 5
}
